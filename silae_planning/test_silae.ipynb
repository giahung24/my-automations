{
 "cells": [
  {
   "cell_type": "code",
   "execution_count": 1,
   "id": "86bf349c",
   "metadata": {},
   "outputs": [],
   "source": [
    "from utils import (\n",
    "    login_silae_portal,\n",
    "    get_planning_events,\n",
    "    get_planning_resources,\n",
    "    get_employee_shifts,\n",
    "    parse_silae_time\n",
    ")"
   ]
  },
  {
   "cell_type": "code",
   "execution_count": 4,
   "id": "f6a2658e",
   "metadata": {},
   "outputs": [],
   "source": [
    "# 1. Connexion\n",
    "username=\"tylynn\"\n",
    "password=\"Tytony@2426#\"\n",
    "\n",
    "session = login_silae_portal(username, password)\n",
    "\n",
    "if session is None:\n",
    "    raise SystemExit(\"Impossible de continuer sans connexion.\")\n",
    "\n",
    "# 2. Récupérer les événements de la semaine courante\n",
    "events = get_planning_events(session)\n",
    "\n",
    "\n",
    "# 3. Récupérer les ressources\n",
    "resources = get_planning_resources(session)\n"
   ]
  },
  {
   "cell_type": "code",
   "execution_count": 5,
   "id": "530d945a",
   "metadata": {},
   "outputs": [],
   "source": [
    "shift = events[1]"
   ]
  },
  {
   "cell_type": "code",
   "execution_count": 24,
   "id": "a399ab57",
   "metadata": {},
   "outputs": [
    {
     "data": {
      "text/plain": [
       "'2025-10-26 12:00 CET+0100'"
      ]
     },
     "execution_count": 24,
     "metadata": {},
     "output_type": "execute_result"
    }
   ],
   "source": [
    "shift[\"breakTimeStart\"]"
   ]
  },
  {
   "cell_type": "code",
   "execution_count": null,
   "id": "7861f3ee",
   "metadata": {},
   "outputs": [],
   "source": []
  },
  {
   "cell_type": "code",
   "execution_count": 3,
   "id": "d6debf12",
   "metadata": {},
   "outputs": [],
   "source": [
    "# # Vue mensuelle\n",
    "events_month = get_planning_events(\n",
    "    session,\n",
    "    date_from=\"2025-10-01\",\n",
    "    date_to=\"2025-10-31\",\n",
    "    view=\"month\"\n",
    ")"
   ]
  },
  {
   "cell_type": "code",
   "execution_count": 4,
   "id": "43486ef0",
   "metadata": {},
   "outputs": [],
   "source": [
    "emp_id = \"1689166228\"\n",
    "shifts = get_employee_shifts(events, emp_id)"
   ]
  },
  {
   "cell_type": "markdown",
   "id": "d69cd05c",
   "metadata": {},
   "source": [
    "## Calendar"
   ]
  },
  {
   "cell_type": "code",
   "execution_count": 15,
   "id": "577b3b97",
   "metadata": {},
   "outputs": [],
   "source": [
    "from calendar_api import GoogleCalendarAPI"
   ]
  },
  {
   "cell_type": "code",
   "execution_count": 16,
   "id": "1f449258",
   "metadata": {},
   "outputs": [],
   "source": [
    "# Initialize the API\n",
    "cred_path = \".env/client_secret_574394857467-t3g0dru5hmsh4e7ua05jfno6sj9bvuk6.apps.googleusercontent.com.json\"\n",
    "token_path = \".env/token.pickle\"\n",
    "cal_api = GoogleCalendarAPI(cred_path, token_path)"
   ]
  },
  {
   "cell_type": "code",
   "execution_count": 4,
   "id": "87f30cec",
   "metadata": {},
   "outputs": [
    {
     "name": "stdout",
     "output_type": "stream",
     "text": [
      "Available Calendars:\n",
      "- Family (ID: family15500128644750734169@group.calendar.google.com)\n",
      "- Jours fériés et autres fêtes en France (ID: fr.french#holiday@group.v.calendar.google.com)\n",
      "- jean.deanny@gmail.com (ID: jean.deanny@gmail.com)\n",
      "- Family (ID: family15896276290252655696@group.calendar.google.com)\n"
     ]
    }
   ],
   "source": [
    "# List all calendars\n",
    "calendars = cal_api.list_calendars()"
   ]
  },
  {
   "cell_type": "code",
   "execution_count": 5,
   "id": "42ee8fd6",
   "metadata": {},
   "outputs": [
    {
     "name": "stdout",
     "output_type": "stream",
     "text": [
      "Calendar created successfully!\n",
      "- Name: Hotel Formule Club Schedule\n",
      "- ID: b4f843ece711e1e83b7536371f35c1210a74666d82a515f88b2a624a2774f787@group.calendar.google.com\n"
     ]
    }
   ],
   "source": [
    "# Example: Create a new calendar\n",
    "new_calendar = cal_api.create_calendar(\n",
    "    summary=\"Hotel Formule Club Schedule\",\n",
    "    description=\"Calendar for Tylynn work planning and shifts\",\n",
    "    timezone=\"Europe/Paris\",\n",
    ")"
   ]
  }
 ],
 "metadata": {
  "kernelspec": {
   "display_name": "nlp",
   "language": "python",
   "name": "python3"
  },
  "language_info": {
   "codemirror_mode": {
    "name": "ipython",
    "version": 3
   },
   "file_extension": ".py",
   "mimetype": "text/x-python",
   "name": "python",
   "nbconvert_exporter": "python",
   "pygments_lexer": "ipython3",
   "version": "3.11.5"
  }
 },
 "nbformat": 4,
 "nbformat_minor": 5
}
